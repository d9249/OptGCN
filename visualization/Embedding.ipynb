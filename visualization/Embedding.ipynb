{
 "cells": [
  {
   "cell_type": "code",
   "execution_count": 4,
   "id": "1f2d5b3f-acb0-4c4e-836d-485872a7a530",
   "metadata": {},
   "outputs": [
    {
     "name": "stdout",
     "output_type": "stream",
     "text": [
      "\n",
      "+------------+---------+---------+\n",
      "|            | User    | Item    |\n",
      "+------------+---------+---------+\n",
      "| Mean       | -5.19e-02 | -3.83e-02 |\n",
      "| Std Dev    | 4.78e-01 | 3.82e-01 |\n",
      "| Std Error  | 5.32e-04 | 3.20e-04 |\n",
      "| Variance   | 2.29e-01 | 1.46e-01 |\n",
      "| Median     | -2.62e-02 | -2.52e-02 |\n",
      "+------------+---------+---------+\n",
      "\n"
     ]
    }
   ],
   "source": [
    "import torch\n",
    "\n",
    "# Load the embeddings\n",
    "# user_emb = torch.load('c:\\\\Users\\\\admin\\\\Downloads\\\\ThinGCN\\\\embedding\\\\base\\\\MF_FilmTrust\\\\best_user_emb.pt', map_location=torch.device('cpu'))\n",
    "# item_emb = torch.load('c:\\\\Users\\\\admin\\\\Downloads\\\\ThinGCN\\\\embedding\\\\base\\\\MF_FilmTrust\\\\best_item_emb.pt', map_location=torch.device('cpu'))\n",
    "\n",
    "# user_emb = torch.load('c:\\\\Users\\\\admin\\\\Downloads\\\\ThinGCN\\\\embedding\\\\Weight\\\\LightGCN_Weight\\\\douban-book\\\\best_user_emb.pt', map_location=torch.device('cpu'))\n",
    "# item_emb = torch.load('c:\\\\Users\\\\admin\\\\Downloads\\\\ThinGCN\\\\embedding\\\\Weight\\\\LightGCN_Weight\\\\douban-book\\\\best_item_emb.pt', map_location=torch.device('cpu'))\n",
    "\n",
    "# user_emb = torch.load('./embedding/Weight/XSimGCL_Weight/yelp2018/best_user_emb.pt', map_location=torch.device('cpu'))\n",
    "# item_emb = torch.load('./embedding/Weight/XSimGCL_Weight/yelp2018/best_item_emb.pt', map_location=torch.device('cpu'))\n",
    "\n",
    "# best_p_u = torch.load('./embedding/Egress/BUIR_Egress/yelp2018/best_p_u.pt', map_location=torch.device('cpu'))\n",
    "# best_u = torch.load('./embedding/Egress/BUIR_Egress/yelp2018/best_u.pt', map_location=torch.device('cpu'))\n",
    "# best_p_i = torch.load('./embedding/Egress/BUIR_Egress/yelp2018/best_p_i.pt', map_location=torch.device('cpu'))\n",
    "# best_i = torch.load('./embedding/Egress/BUIR_Egress/yelp2018/best_i.pt', map_location=torch.device('cpu'))\n",
    "\n",
    "best_p_u = torch.load('c:\\\\Users\\\\admin\\\\Downloads\\\\ThinGCN\\\\embedding\\\\Weight\\\\BUIR_Weight\\\\douban-book\\\\best_p_u.pt', map_location=torch.device('cpu'))\n",
    "best_u = torch.load('c:\\\\Users\\\\admin\\\\Downloads\\\\ThinGCN\\\\embedding\\\\Weight\\\\BUIR_Weight\\\\douban-book\\\\best_u.pt', map_location=torch.device('cpu'))\n",
    "best_p_i = torch.load('c:\\\\Users\\\\admin\\\\Downloads\\\\ThinGCN\\\\embedding\\\\Weight\\\\BUIR_Weight\\\\douban-book\\\\best_p_i.pt', map_location=torch.device('cpu'))\n",
    "best_i = torch.load('c:\\\\Users\\\\admin\\\\Downloads\\\\ThinGCN\\\\embedding\\\\Weight\\\\BUIR_Weight\\\\douban-book\\\\best_i.pt', map_location=torch.device('cpu'))\n",
    "\n",
    "# Creating combined embeddings\n",
    "user_emb = best_p_u + best_u\n",
    "item_emb = best_p_i + best_i\n",
    "\n",
    "# Calculate basic statistics for user_emb\n",
    "mean_user = torch.mean(user_emb)\n",
    "std_user = torch.std(user_emb)\n",
    "stderr_user = std_user / torch.sqrt(torch.tensor(user_emb.numel()).float())\n",
    "var_user = torch.var(user_emb)\n",
    "median_user = torch.median(user_emb)\n",
    "\n",
    "# Calculate basic statistics for item_emb\n",
    "mean_item = torch.mean(item_emb)\n",
    "std_item = torch.std(item_emb)\n",
    "stderr_item = std_item / torch.sqrt(torch.tensor(item_emb.numel()).float())\n",
    "var_item = torch.var(item_emb)\n",
    "median_item = torch.median(item_emb)\n",
    "\n",
    "# ... (Previous calculations)\n",
    "\n",
    "# Formatting the results as a horizontal table-like string for easy copy-pasting\n",
    "table_format_horizontal = \"\"\"\n",
    "+------------+---------+---------+\n",
    "|            | User    | Item    |\n",
    "+------------+---------+---------+\n",
    "| Mean       | {:.2e} | {:.2e} |\n",
    "| Std Dev    | {:.2e} | {:.2e} |\n",
    "| Std Error  | {:.2e} | {:.2e} |\n",
    "| Variance   | {:.2e} | {:.2e} |\n",
    "| Median     | {:.2e} | {:.2e} |\n",
    "+------------+---------+---------+\n",
    "\"\"\".format(mean_user.item(), mean_item.item(), \n",
    "           std_user.item(), std_item.item(), \n",
    "           stderr_user.item(), stderr_item.item(), \n",
    "           var_user.item(), var_item.item(), \n",
    "           median_user.item(), median_item.item())\n",
    "\n",
    "print(table_format_horizontal)"
   ]
  }
 ],
 "metadata": {
  "kernelspec": {
   "display_name": "Python 3 (ipykernel)",
   "language": "python",
   "name": "python3"
  },
  "language_info": {
   "codemirror_mode": {
    "name": "ipython",
    "version": 3
   },
   "file_extension": ".py",
   "mimetype": "text/x-python",
   "name": "python",
   "nbconvert_exporter": "python",
   "pygments_lexer": "ipython3",
   "version": "3.8.10"
  }
 },
 "nbformat": 4,
 "nbformat_minor": 5
}
